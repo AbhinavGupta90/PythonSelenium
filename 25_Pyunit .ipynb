{
 "cells": [
  {
   "cell_type": "markdown",
   "metadata": {},
   "source": [
    "# PyTest Naming Conventions\n",
    "When using pytest, it is very important to follow naming\n",
    "conventions.\n",
    "If we don't follow naming conventions, then pytest will not pick\n",
    "up tests from the file.\n",
    "• File names should start or end with “test”, as in\n",
    "test_example.py or example_test.py\n",
    "• Class name should start with “Test”, as in TestExample\n",
    "• Test method names should start with “test_”, as in\n",
    "test_example\n",
    "You can refer to the official documentation for more details:\n",
    "http://pytest.readthedocs.io/en/reorganize-docs/newdocs/\n",
    "user/naming_conventions.html"
   ]
  },
  {
   "cell_type": "markdown",
   "metadata": {},
   "source": [
    "How to execute the test go to the location and run\n",
    " py.test"
   ]
  },
  {
   "cell_type": "code",
   "execution_count": 1,
   "metadata": {},
   "outputs": [],
   "source": [
    "import pytest\n",
    "def test_demo1_methodA(setUp):\n",
    "    print(\"Running demo1 method A\")\n",
    "\n",
    "def test_demo1_methodB(setUp):\n",
    "    print(\"Running demo1 method B\")"
   ]
  },
  {
   "cell_type": "markdown",
   "metadata": {},
   "source": [
    "If you want more logs\n",
    "py.test -v -s\n"
   ]
  },
  {
   "cell_type": "code",
   "execution_count": 2,
   "metadata": {},
   "outputs": [],
   "source": [
    "import pytest\n",
    "@pytest.fixture()\n",
    "def setUp():\n",
    "    print(\"Running demo1 setUp\")\n",
    "\n",
    "def test_demo1_methodA(setUp):# name of fixture will be passed in method it will make sure setup is run beore \n",
    "    print(\"Running demo1 method A\")\n",
    "\n",
    "def test_demo1_methodB(setUp):\n",
    "    print(\"Running demo1 method B\")"
   ]
  },
  {
   "cell_type": "code",
   "execution_count": 5,
   "metadata": {},
   "outputs": [
    {
     "ename": "SyntaxError",
     "evalue": "invalid syntax (<ipython-input-5-32ce45a9d101>, line 1)",
     "output_type": "error",
     "traceback": [
      "\u001b[1;36m  File \u001b[1;32m\"<ipython-input-5-32ce45a9d101>\"\u001b[1;36m, line \u001b[1;32m1\u001b[0m\n\u001b[1;33m    If you want to run the single file\u001b[0m\n\u001b[1;37m         ^\u001b[0m\n\u001b[1;31mSyntaxError\u001b[0m\u001b[1;31m:\u001b[0m invalid syntax\n"
     ]
    }
   ],
   "source": [
    "If you want to run the single file \n",
    " py.test test_demo_1.py"
   ]
  },
  {
   "cell_type": "markdown",
   "metadata": {},
   "source": [
    "Now what if I want to create a method which went after it as well right.\n",
    "\n",
    "So the beauty of Pietist allows us to use the same method to be run before and after test with functionality\n",
    "\n",
    "instead of Pietist to our fixture."
   ]
  },
  {
   "cell_type": "markdown",
   "metadata": {},
   "source": [
    "So anything after this keyword anything after this keyword is gonna run after that test.\n",
    "\n",
    "So anything about this key word play the Sprint statement will be executed before the testamentary in\n",
    "\n",
    "anything after the key yield will be executed after the test mentally.\n",
    "\n",
    "So instead of saying once before and what I say once after every matter so just notice this guys just"
   ]
  },
  {
   "cell_type": "code",
   "execution_count": 7,
   "metadata": {},
   "outputs": [
    {
     "ename": "SyntaxError",
     "evalue": "invalid syntax (<ipython-input-7-4c68b5fc99f6>, line 1)",
     "output_type": "error",
     "traceback": [
      "\u001b[1;36m  File \u001b[1;32m\"<ipython-input-7-4c68b5fc99f6>\"\u001b[1;36m, line \u001b[1;32m1\u001b[0m\n\u001b[1;33m    py.test -s test-case-demo2.py\u001b[0m\n\u001b[1;37m                  ^\u001b[0m\n\u001b[1;31mSyntaxError\u001b[0m\u001b[1;31m:\u001b[0m invalid syntax\n"
     ]
    }
   ],
   "source": [
    " py.test -s test-case-demo2.py"
   ]
  },
  {
   "cell_type": "code",
   "execution_count": 8,
   "metadata": {},
   "outputs": [
    {
     "ename": "SyntaxError",
     "evalue": "invalid syntax (<ipython-input-8-902a6a78acf7>, line 1)",
     "output_type": "error",
     "traceback": [
      "\u001b[1;36m  File \u001b[1;32m\"<ipython-input-8-902a6a78acf7>\"\u001b[1;36m, line \u001b[1;32m1\u001b[0m\n\u001b[1;33m    py.test will run all the test cases\u001b[0m\n\u001b[1;37m               ^\u001b[0m\n\u001b[1;31mSyntaxError\u001b[0m\u001b[1;31m:\u001b[0m invalid syntax\n"
     ]
    }
   ],
   "source": [
    "py.test will run all the test cases"
   ]
  },
  {
   "cell_type": "markdown",
   "metadata": {},
   "source": [
    "After pytest version 2.10, you do not need @pytest.yield_fixture explicitly to use yield.\n",
    "\n",
    "The default @pytest.fixture also supports yield.\n",
    "\n",
    "It means the code will work if you are using @pytest.yield_fixture or @pytest.fixture.\n",
    "\n",
    "This screenshot is from pytest website:\n",
    "\n",
    "http://doc.pytest.org/en/latest/fixture.html"
   ]
  },
  {
   "cell_type": "markdown",
   "metadata": {},
   "source": [
    "- py.test test_module.py will run the test cases in that module\n",
    "- py.test some path will execute everytest in that path\n",
    "- py.test test_module.py::test_method will run only one function or test\n",
    "- -s to print statement\n",
    "- -v verbose"
   ]
  },
  {
   "cell_type": "markdown",
   "metadata": {},
   "source": [
    "### Applying the setup for different files\n",
    "- create a file conftest.py which contains all the configuration\n"
   ]
  },
  {
   "cell_type": "code",
   "execution_count": null,
   "metadata": {},
   "outputs": [],
   "source": [
    "Windows machine does not recognize \"*\" and it cannot be used on that.\n",
    "\n",
    "If you are using Windows, then please use the full file name, instead of using wildcards."
   ]
  },
  {
   "cell_type": "code",
   "execution_count": 9,
   "metadata": {},
   "outputs": [],
   "source": [
    "import pytest\n",
    "\n",
    "@pytest.yield_fixture()\n",
    "def setUp():\n",
    "    print(\"Running method level setUp\")\n",
    "    yield\n",
    "    print(\"Running method level tearDown\")\n"
   ]
  },
  {
   "cell_type": "code",
   "execution_count": 10,
   "metadata": {},
   "outputs": [],
   "source": [
    "\n",
    "@pytest.yield_fixture(scope=\"module\")\n",
    "def oneTimeSetUp():\n",
    "    print(\"Running conftest demo one time setUp\")\n",
    "    yield\n",
    "    print(\"Running conftest demo one time tearDown\")"
   ]
  },
  {
   "cell_type": "code",
   "execution_count": 1,
   "metadata": {},
   "outputs": [
    {
     "ename": "SyntaxError",
     "evalue": "invalid syntax (<ipython-input-1-135f0bf50eff>, line 1)",
     "output_type": "error",
     "traceback": [
      "\u001b[1;36m  File \u001b[1;32m\"<ipython-input-1-135f0bf50eff>\"\u001b[1;36m, line \u001b[1;32m1\u001b[0m\n\u001b[1;33m    By default scope is function\u001b[0m\n\u001b[1;37m             ^\u001b[0m\n\u001b[1;31mSyntaxError\u001b[0m\u001b[1;31m:\u001b[0m invalid syntax\n"
     ]
    }
   ],
   "source": [
    "By default scope is function\n",
    "if module it will execute only once before the module"
   ]
  },
  {
   "cell_type": "markdown",
   "metadata": {},
   "source": [
    "## Testing a class"
   ]
  },
  {
   "cell_type": "code",
   "execution_count": null,
   "metadata": {},
   "outputs": [],
   "source": []
  }
 ],
 "metadata": {
  "kernelspec": {
   "display_name": "Python 3",
   "language": "python",
   "name": "python3"
  },
  "language_info": {
   "codemirror_mode": {
    "name": "ipython",
    "version": 3
   },
   "file_extension": ".py",
   "mimetype": "text/x-python",
   "name": "python",
   "nbconvert_exporter": "python",
   "pygments_lexer": "ipython3",
   "version": "3.6.4"
  }
 },
 "nbformat": 4,
 "nbformat_minor": 2
}
