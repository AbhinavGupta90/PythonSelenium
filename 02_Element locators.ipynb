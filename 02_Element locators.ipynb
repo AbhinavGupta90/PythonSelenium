{
 "cells": [
  {
   "cell_type": "markdown",
   "metadata": {},
   "source": [
    "### DOM(Document Object Model)\n",
    "\n",
    "\n"
   ]
  },
  {
   "cell_type": "code",
   "execution_count": null,
   "metadata": {},
   "outputs": [],
   "source": [
    "<!DOCTYPE html>\n",
    "<html>\n",
    "  <head>\n",
    "    <title>Sample title </title>\n",
    "</head>\n",
    "  <body>....\n",
    "    \t<header id=\"header\"><p>Header...</p></header>\n",
    "       <a href=\"https://servicedeskprod.hq.k.grp \">Rainbow</a>\n",
    "</body>\n",
    "\n",
    "</html>"
   ]
  },
  {
   "cell_type": "markdown",
   "metadata": {},
   "source": [
    "![Interpeter](pic_htmltree.gif)"
   ]
  },
  {
   "cell_type": "markdown",
   "metadata": {},
   "source": [
    "head is browser header\n",
    "Body consist all elements other than head"
   ]
  },
  {
   "cell_type": "markdown",
   "metadata": {},
   "source": [
    "## Element locators(8)\n",
    "* id\n",
    "* Class\n",
    "* name\n",
    "* xpath\n",
    "* CSS Path\n",
    "* link\n",
    "* partial linktext\n",
    "* tagname\n"
   ]
  },
  {
   "cell_type": "markdown",
   "metadata": {},
   "source": [
    "#### Finding Element\n",
    "There are various strategies to locate elements in a page.\n",
    "* find_element_by_id()\n",
    "* find_element_by_name()\n",
    "* find_element_by_xpath()\n",
    "* find_element_by_css_selector()\n",
    "* find_element_by_link_text()\n",
    "* find_element_by_partial_link_text()\n",
    "* find_element_by_class_name()\n",
    "* find_element_by_tag_name()"
   ]
  },
  {
   "cell_type": "markdown",
   "metadata": {},
   "source": [
    "#### Apart from the methods given above, there is one more method which might be useful -­‐> \n",
    "\n",
    "find_element().\n",
    "driver.find_element(By.XPATH,\"xpath expression\")\n",
    "These are the attributes available for\n",
    "By:\n",
    "* ID = \"id\"\n",
    "* NAME = \"name\"\n",
    "* XPATH = \"xpath expression\"\n",
    "* CSS_SELECTOR = \"css selector expression\"\n",
    "* LINK_TEXT = \"link text\"\n",
    "* PARTIAL_LINK_TEXT = \"partial link text\"\n",
    "* CLASS_NAME =\"class name\"\n",
    "* TAG_NAME= \"tag name\"\n",
    "\n",
    "#### Finding Multiple Elements\n",
    "* find_elements_by_name()\n",
    "* find_elements_by_xpath()\n",
    "* find_elements_by_link_text()\n",
    "* find_elements_by_partial_link_text()\n",
    "* find_elements_by_tag_name()\n",
    "* find_elements_by_class_name()\n",
    "* find_elements_by_css_selector()\n",
    "\n",
    "driver.find_elements(By.XPATH,\"xpath expression\")\n",
    "These are the attributes available for By:\n",
    "* ID = \"id\"\n",
    "* NAME = \"name\"\n",
    "* XPATH = \"xpath expression\"\n",
    "* CSS_SELECTOR = \"css selector expression\"\n",
    "* LINK_TEXT = \"link text\"\n",
    "* PARTIAL_LINK_TEXT = \"partial link text\"\n",
    "* CLASS_NAME =\"class name\"\n",
    "* TAG_NAME= \"tag name\""
   ]
  },
  {
   "cell_type": "code",
   "execution_count": null,
   "metadata": {},
   "outputs": [],
   "source": [
    "from selenium import webdriver\n",
    "from time import sleep\n",
    "browser=webdriver.Chrome()\n",
    "browser.get('https://www.python.org')\n",
    "# browser.find_element_by_name(\"q\").send_keys(\"python\")\n",
    "browser.find_element_by_xpath(\"//input[@id='id-search-field']\").send_keys(\"python\")\n",
    "# //input[@id=\"id-search-field\"]\n",
    "sleep(10)\n",
    "# link.click()\n"
   ]
  },
  {
   "cell_type": "code",
   "execution_count": null,
   "metadata": {},
   "outputs": [],
   "source": [
    "from selenium import webdriver\n",
    "\n",
    "class FindByIdName():\n",
    "    def test(self):\n",
    "        print(\"test started\")\n",
    "        baseUrl = \"https://letskodeit.teachable.com/pages/practice\"\n",
    "        driver = webdriver.Chrome()\n",
    "        driver.get(baseUrl)\n",
    "        elementById = driver.find_element_by_id(\"name\")\n",
    "\n",
    "        if elementById is not None:\n",
    "            print(\"We found an element by Id\")\n",
    "\n",
    "        elementByName = driver.find_element_by_name(\"show-hide\")\n",
    "\n",
    "        if elementByName is not None:\n",
    "            print(\"We found an element by Name\")\n",
    "        driver.quit()\n",
    "\n",
    "ff = FindByIdName()\n",
    "ff.test()"
   ]
  },
  {
   "cell_type": "code",
   "execution_count": null,
   "metadata": {},
   "outputs": [],
   "source": [
    "baseUrl = \"https://letskodeit.teachable.com/pages/practice\"\n",
    "driver = webdriver.Chrome()\n",
    "driver.get(baseUrl)\n",
    "elementById = driver.find_element_by_id(\"name\")\n",
    "print(\"done\")\n",
    "driver.close()\n"
   ]
  },
  {
   "cell_type": "markdown",
   "metadata": {},
   "source": [
    "#### DYNAMIC ELEMENT\n",
    "In this section we will learn different ways to handle dynamic element and construct generic Xpath.\n",
    "\n",
    "In few scenarios, element attributes change dynamically. It can be ‘id’, ’name’ etc.\n",
    "\n",
    "Example: let’s say ‘id’ of a username field is ‘username_123’ and the XPath will be\n",
    "\n",
    "//*[@id=’username_123′] but when you open the page again the ‘id’ of ‘username’ field might have changed and the new value may be ‘username_234’.\n",
    "\n",
    "In this case, the test will fail because the selenium could not find the XPath you have passed earlier as the id of the field has changed to some other value.\n",
    "\n",
    "There are many approaches depending upon the type of problem:\n",
    "You can construct xpath as below:\n",
    "\n",
    "driver.findElement(By.xpath(“//*[contains(@id,’username’)]”)).sendKeys(“username”);\n",
    "driver.findElement(By.xpath(“//*[starts-with(@id,’user’)]”)).sendKeys(“username”);\n",
    "\n",
    "‘contains’ is a java method which checks if id contains the substring username.\n",
    "starts-with() checks if any attribute starts with “user”."
   ]
  },
  {
   "cell_type": "code",
   "execution_count": null,
   "metadata": {},
   "outputs": [],
   "source": [
    "from selenium import webdriver\n",
    "\n",
    "class FindByIdName():\n",
    "\n",
    "    def test(self):\n",
    "       \n",
    "        driver.get(\"https://www.yahoo.com/\")\n",
    "        # This one should fail because the Id is not static\n",
    "        # Exception thrown: NoSuchElementException\n",
    "        driver.find_element_by_id(\"yui_3_18_0_4_1463100170626_1148\")\n",
    "\n",
    "ff = FindByIdName()\n",
    "ff.test()"
   ]
  },
  {
   "cell_type": "code",
   "execution_count": null,
   "metadata": {},
   "outputs": [],
   "source": [
    "from selenium import webdriver\n",
    "\n",
    "class FindByXPathCSS():\n",
    "\n",
    "    def test(self):\n",
    "        baseUrl = \"https://letskodeit.teachable.com/pages/practice\"\n",
    "        driver = webdriver.Chrome()\n",
    "        driver.get(baseUrl)\n",
    "        elementByXpath = driver.find_element_by_xpath(\"//input[@id='name']\")\n",
    "\n",
    "        if elementByXpath is not None:\n",
    "            print(\"We found an element by XPATH\")\n",
    "\n",
    "        elementByCss = driver.find_element_by_css_selector(\"#displayed-text\")\n",
    "\n",
    "        if elementByCss is not None:\n",
    "            print(\"We found an element by CSS\")\n",
    "        driver.quit()\n",
    "\n",
    "ff = FindByXPathCSS()\n",
    "ff.test()"
   ]
  },
  {
   "cell_type": "markdown",
   "metadata": {},
   "source": [
    "### By Demo"
   ]
  },
  {
   "cell_type": "code",
   "execution_count": null,
   "metadata": {},
   "outputs": [],
   "source": [
    "from selenium import webdriver\n",
    "from selenium.webdriver.common.by import By\n",
    "\n",
    "class ByDemo():\n",
    "\n",
    "    def test(self):\n",
    "        baseUrl = \"https://letskodeit.teachable.com/pages/practice\"\n",
    "        driver = webdriver.Chrome()\n",
    "        driver.get(baseUrl)\n",
    "\n",
    "        elementById = driver.find_element(By.ID, \"name\")\n",
    "\n",
    "        if elementById is not None:\n",
    "            print(\"We found an element by Id\")\n",
    "\n",
    "        elementByXpath = driver.find_element(By.XPATH, \"//input[@id='displayed-text']\")\n",
    "\n",
    "        if elementByXpath is not None:\n",
    "            print(\"We found an element by XPATH\")\n",
    "\n",
    "        elementByLinkText = driver.find_element(By.LINK_TEXT, \"Login\")\n",
    "\n",
    "        if elementByLinkText is not None:\n",
    "            print(\"We found an element by Link Text\")\n",
    "\n",
    "ff = ByDemo()\n",
    "ff.test()"
   ]
  },
  {
   "cell_type": "code",
   "execution_count": 2,
   "metadata": {},
   "outputs": [
    {
     "name": "stdout",
     "output_type": "stream",
     "text": [
      "[<selenium.webdriver.remote.webelement.WebElement (session=\"81e34977a0236bbf564dd0fb58a70bee\", element=\"0.6675898553350847-1\")>, <selenium.webdriver.remote.webelement.WebElement (session=\"81e34977a0236bbf564dd0fb58a70bee\", element=\"0.6675898553350847-2\")>]\n",
      "<class 'list'>\n",
      "ClassName -> Size of the list is: 2\n",
      "TagName -> Size of the list is: 9\n"
     ]
    }
   ],
   "source": [
    "from selenium import webdriver\n",
    "from selenium.webdriver.common.by import By\n",
    "\n",
    "class ListOfElements():\n",
    "\n",
    "    def test(self):\n",
    "        baseUrl = \"https://letskodeit.teachable.com/pages/practice\"\n",
    "        driver = webdriver.Chrome()\n",
    "        driver.get(baseUrl)\n",
    "\n",
    "        elementListByClassName = driver.find_elements_by_class_name(\"inputs\")\n",
    "        length1 = len(elementListByClassName)\n",
    "        print(elementListByClassName)\n",
    "        print (type(elementListByClassName))\n",
    "\n",
    "        if elementListByClassName is not None:\n",
    "            print(\"ClassName -> Size of the list is: \" + str(length1))\n",
    "\n",
    "        elementListByTagName = driver.find_elements(By.TAG_NAME, \"td\")\n",
    "        length2 = len(elementListByTagName)\n",
    "\n",
    "        if elementListByTagName is not None:\n",
    "            print(\"TagName -> Size of the list is: \" + str(length2))\n",
    "\n",
    "ff = ListOfElements()\n",
    "ff.test()"
   ]
  },
  {
   "cell_type": "code",
   "execution_count": null,
   "metadata": {},
   "outputs": [],
   "source": []
  }
 ],
 "metadata": {
  "kernelspec": {
   "display_name": "Python 3",
   "language": "python",
   "name": "python3"
  },
  "language_info": {
   "codemirror_mode": {
    "name": "ipython",
    "version": 3
   },
   "file_extension": ".py",
   "mimetype": "text/x-python",
   "name": "python",
   "nbconvert_exporter": "python",
   "pygments_lexer": "ipython3",
   "version": "3.6.4"
  }
 },
 "nbformat": 4,
 "nbformat_minor": 2
}
