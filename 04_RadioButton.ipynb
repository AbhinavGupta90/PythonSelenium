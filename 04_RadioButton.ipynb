{
 "cells": [
  {
   "cell_type": "code",
   "execution_count": 1,
   "metadata": {},
   "outputs": [],
   "source": [
    "from selenium import webdriver\n",
    "from time import sleep\n",
    "driver = webdriver.Chrome()\n",
    "driver.maximize_window()\n",
    "driver.get(\"https://www.zkoss.org/zkdemo/input/radio_button\")\n",
    "# driver.get(\"https://google.com\")\n",
    "sleep(5)\n",
    "# element=driver.find_element_by_id(\"d9uRr-real\")\n",
    "\n",
    "# element=driver.find_element_by_xpath(\"//input[@type='radio' and @name='_pg5ra2221' and @id='aSCQr-real']\")\n",
    "# print(element)\n",
    "# element.click()\n",
    "# //*[@id=\"nY8Qr-real\"]\n",
    "# for i in driver.find_elements_by_xpath(\"//*[@type='radio']\"):\n",
    "for i in driver.find_elements_by_xpath(\"//*[@type='radio']\"):\n",
    "\ti.click()\n",
    "\tsleep(2)\n",
    "# sleep(5)\n",
    "driver.quit()"
   ]
  },
  {
   "cell_type": "code",
   "execution_count": null,
   "metadata": {},
   "outputs": [],
   "source": []
  }
 ],
 "metadata": {
  "kernelspec": {
   "display_name": "Python 3",
   "language": "python",
   "name": "python3"
  },
  "language_info": {
   "codemirror_mode": {
    "name": "ipython",
    "version": 3
   },
   "file_extension": ".py",
   "mimetype": "text/x-python",
   "name": "python",
   "nbconvert_exporter": "python",
   "pygments_lexer": "ipython3",
   "version": "3.6.4"
  }
 },
 "nbformat": 4,
 "nbformat_minor": 2
}
