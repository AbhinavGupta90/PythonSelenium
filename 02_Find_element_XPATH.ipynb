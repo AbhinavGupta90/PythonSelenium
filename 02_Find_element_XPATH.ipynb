{
 "cells": [
  {
   "cell_type": "markdown",
   "metadata": {},
   "source": [
    "Every element does not have an id static id, unique name, unique link text.For those elements\n",
    "we need to build xpath to find and then perform actions on them.  \n",
    "Whatever\n",
    "we\n",
    "use\n",
    "to\n",
    "find\n",
    "an\n",
    "element,\n",
    "id,\n",
    "name,\n",
    "xpath\n",
    "-­‐>\n",
    "It\n",
    "should\n",
    "always\n",
    "be\n",
    "unique.\n",
    "It\n",
    "should\n",
    "only\n",
    "find\n",
    "one\n",
    "matching\n",
    "node\n",
    "unless\n",
    "we\n",
    "want\n",
    "to\n",
    "capture\n",
    "a\n",
    "list\n",
    "of\n",
    "elements."
   ]
  },
  {
   "cell_type": "markdown",
   "metadata": {},
   "source": [
    "### Absolute XPATH\n",
    "It is the direct way to find the element, but the disadvantage of the absolute XPath is that if there are any changes made in the path of the element then that XPath gets failed.\n",
    "\n",
    "The key characteristic of XPath is that it begins with the single forward slash(/) ,which means you can select the element from the root node.\n",
    "\n",
    "Below is the example of an absolute xpath expression of the element shown in the below screen."
   ]
  },
  {
   "cell_type": "code",
   "execution_count": null,
   "metadata": {},
   "outputs": [],
   "source": [
    "html/body/div[1]/section/div[1]/div/div/div/div[1]/div/div/div/div/div[3]/div[1]/div/h4[1]/b\n"
   ]
  },
  {
   "cell_type": "markdown",
   "metadata": {},
   "source": [
    "Absolute path for login button\n",
    "\n",
    "/html/body/header/div/div/div/div/ul/li[2]/a"
   ]
  },
  {
   "cell_type": "markdown",
   "metadata": {},
   "source": [
    "### Relative path\n",
    "* Relative to some element which we already found<br>\n",
    "* Relative Xpath the path starts from the middle of the HTML DOM structure. It starts with the double forward slash (//), which means it can search the element anywhere at the webpage.\n",
    "\n",
    "You can start from the middle of the HTML DOM structure and no need to write long xpath.\n",
    "\n"
   ]
  },
  {
   "cell_type": "markdown",
   "metadata": {},
   "source": [
    "### Syntax:\n",
    "//tag[@attribute='value']\n",
    "\n",
    "It is used to select the current node. \n",
    "<br>Tag_name: It is the name of the tag of a particular node. <br>@: It is used to select to select attribute. Attribute_name: It is the name of the attribute of the node"
   ]
  },
  {
   "cell_type": "markdown",
   "metadata": {},
   "source": [
    ". https://www.freecrm.com/index.html\n",
    "    * user name //input[@name='username'] * Password //input[@name=’password']\n",
    "\n",
    "* //input[@name='lst-ib']\n",
    "\n",
    "Value: It is the value of the attribute. //input[@id='lst-ib']\n",
    "\n",
    "For submit button //input[@type='submit'] \n",
    "<br>More reliable //input[@type='submit' and @value=’login’]\n",
    "\n",
    "//input[@type='submit' and @value='Login' and @class='btn btn-small']"
   ]
  },
  {
   "cell_type": "raw",
   "metadata": {},
   "source": [
    ".//div[@id='navbar']/div/div/div/ul/li[2]/a\n",
    "<br>\n",
    ".//*[@id='navbar']<br>\n",
    "it means anything with id navbar\n",
    "<br>*(star) is tag here\n",
    "\n",
    "we can have below \n",
    ".//div[@id='navbar']/div/div/div/ul/li[2]/a<br>\n"
   ]
  },
  {
   "cell_type": "markdown",
   "metadata": {},
   "source": [
    "Difference\n",
    "between\n",
    "single\n",
    "‘/’\n",
    "or\n",
    "double\n",
    "‘//’\n",
    "<br>Single\n",
    "slash\n",
    "‘/’\n",
    "anywhere\n",
    "in\n",
    "xpath\n",
    "signifies\n",
    "to\n",
    "look\n",
    "for\n",
    "the\n",
    "element\n",
    "immediately\n",
    "inside\n",
    "the\n",
    "parent\n",
    "element.<br>\n",
    "Double\n",
    "slash\n",
    "‘//’\n",
    "signifies\n",
    "to\n",
    "look\n",
    "for\n",
    "any\n",
    "child\n",
    "or\n",
    "nested-­‐\n",
    "child\n",
    "element\n",
    "inside\n",
    "the\n",
    "parent\n",
    "element"
   ]
  },
  {
   "cell_type": "code",
   "execution_count": null,
   "metadata": {},
   "outputs": [],
   "source": [
    ".//div[@id='navbar']/div \n",
    "Above will show only the child element (immediaate child)\n",
    ".//div[@id='navbar']/div\n",
    "It will show any element nested child as well\n"
   ]
  },
  {
   "cell_type": "markdown",
   "metadata": {},
   "source": [
    "Out put of below? <br>\n",
    ".//div[@id='navbar']/div/div/div/ul/li[2]/a<br>\n",
    "If i make it \n",
    "\n",
    ".//div[@id='navbar']/ul/li[2]/a<br>\n",
    "it will not work\n",
    ".//div[@id='navbar']//ul/li[2]/a<br>\n"
   ]
  },
  {
   "cell_type": "markdown",
   "metadata": {},
   "source": [
    "https://learn.letskodeit.com/\n",
    "Find the xpath of Enroll now\n",
    "\n",
    "    "
   ]
  },
  {
   "cell_type": "markdown",
   "metadata": {},
   "source": [
    "### Using Text  of the element to build xpath Finding Login link:\n",
    "    <br> //div[@class='homepage-­‐hero']//a[text()='Enrollnow']"
   ]
  },
  {
   "cell_type": "markdown",
   "metadata": {},
   "source": [
    "#### Using Contains to find the elements:\n",
    "Syntax:<br>\n",
    "//tag[contains(attribute,‘value’)]<br>\n",
    "<br>\n",
    "//div[@class=\"collapse navbar-collapse\"]//a[text()='Features']\n",
    "finding features in freecrm\n",
    "\n",
    "\n",
    "Finding Login link:<br>\n",
    "//div[@id='navbar']//a[contains(text(),'Login')]\n",
    "<br>\n",
    "//div[@id='navbar']//a[contains(@class,'navbar-link')and contains(@href,'sign_in')]\n",
    "<br>"
   ]
  },
  {
   "cell_type": "markdown",
   "metadata": {},
   "source": [
    "#### Using Starts-With to find the elements:\n",
    "Syntax:<br>\n",
    "//tag[starts-with(attribute,\n",
    "‘value’)]\n",
    "<br>Finding\n",
    "Login\n",
    "link:<br>\n",
    "//div[@id='navbar']//a[starts-with(@class,'navbar-link')]\n",
    "//*[contains(text(),'Dashboard')]"
   ]
  },
  {
   "cell_type": "markdown",
   "metadata": {},
   "source": [
    "#### Parent \n",
    "Syntax:\n",
    "xpath-to-some-element//parent::<tag>\n",
    "Preceding\n",
    "Sibling\n",
    "\n",
    "//a[@href='/sign_in']//parent::li//preceding-sibling::li//following-sibling::li[2]\n",
    "    \n",
    "Freecrm example\n",
    "//input[@type=\"text\"]//parent::div[@class=\"input-group\"]"
   ]
  },
  {
   "cell_type": "markdown",
   "metadata": {},
   "source": [
    "\n",
    "Xpath=//Tag_name[@attribute_name=’value’]\n",
    "// : It is used to select the current node.\n",
    "Tag_name: It is the name of the tag of a particular node.\n",
    "@: It is used to select to select attribute.\n",
    "Attribute_name: It is the name of the attribute of the node.\n",
    "https://www.freecrm.com/index.html\n",
    "user name\n",
    "//input[@name='username']\n",
    "Password\n",
    "//input[@name=’password']\n",
    "\n",
    "//input[@name='lst-ib']\n",
    "\n",
    "\n",
    "\n",
    "\n",
    "Value: It is the value of the attribute.\n",
    "//input[@id='lst-ib']\n",
    "\n",
    "For submit button\n",
    "//input[@type='submit']\n",
    "More reliable\n",
    "//input[@type='submit' and @value=’login’]\n",
    "\n",
    "//input[@type='submit' and @value=’login’ and @class=’ btn btn-small’]\n",
    "\n",
    "<input type=\"submit\" value=\"Login\" class=\"btn btn-small\">\n",
    "\n",
    "Link\n",
    "Feature\n",
    "//a 19 links are present\n",
    "//a[text()='Features']\n",
    "//a[contains(text(),'Features')]—recommended\n",
    "For sign up button\n",
    "//button[@type='button' and @class='btn']\n",
    "// button [contains(text(),'Sign Up')]—recommended\n",
    "https://v4-alpha.getbootstrap.com/components/dropdowns/ \n",
    "Drop down\n",
    "//button[@type='button' and @class='btn btn-secondary dropdown-toggle'] – 5 element\n",
    "Require more generic\n",
    "//div//button[@type='button' and @class='btn btn-secondary dropdown-toggle'] – 5 element\n",
    "More generic\n",
    "//div[@class='dropdown']//button[@type='button' and @class='btn btn-secondary dropdown-toggle']\n",
    "Instead of above I can use simple\n",
    "//button[@id='dropdownMenuButton']\n",
    "This is better performance wise\n",
    "\n",
    "Bootstrap link\n",
    "//a[text()='Bootstrap']]              —recommended\n",
    "Freecrm contacts\n",
    "//*[@id=\"vContactsForm\"]/table/tbody/tr[5]/td[1]/input\n",
    "\n",
    "Abs xpath \n",
    "//*[@id=\"vContactsForm\"]/table/tbody/tr[8]/td[1]/input\n",
    "\n",
    "//a[text()='test1 test1']//parent::td[@class='datalistrow']//preceding-sibling::td[@class='datalistrow']//input[@name='contact_id']\n"
   ]
  },
  {
   "cell_type": "code",
   "execution_count": null,
   "metadata": {},
   "outputs": [],
   "source": []
  }
 ],
 "metadata": {
  "kernelspec": {
   "display_name": "Python 3",
   "language": "python",
   "name": "python3"
  },
  "language_info": {
   "codemirror_mode": {
    "name": "ipython",
    "version": 3
   },
   "file_extension": ".py",
   "mimetype": "text/x-python",
   "name": "python",
   "nbconvert_exporter": "python",
   "pygments_lexer": "ipython3",
   "version": "3.6.4"
  }
 },
 "nbformat": 4,
 "nbformat_minor": 2
}
