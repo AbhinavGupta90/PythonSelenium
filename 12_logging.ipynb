{
 "cells": [
  {
   "cell_type": "code",
   "execution_count": 1,
   "metadata": {},
   "outputs": [
    {
     "name": "stdout",
     "output_type": "stream",
     "text": [
      "69.0.3497.100\n",
      "['BASIC_FORMAT', 'BufferingFormatter', 'CRITICAL', 'DEBUG', 'ERROR', 'FATAL', 'FileHandler', 'Filter', 'Filterer', 'Formatter', 'Handler', 'INFO', 'LogRecord', 'Logger', 'LoggerAdapter', 'Manager', 'NOTSET', 'NullHandler', 'PercentStyle', 'PlaceHolder', 'RootLogger', 'StrFormatStyle', 'StreamHandler', 'StringTemplateStyle', 'Template', 'WARN', 'WARNING', '_STYLES', '_StderrHandler', '__all__', '__author__', '__builtins__', '__cached__', '__date__', '__doc__', '__file__', '__loader__', '__name__', '__package__', '__path__', '__spec__', '__status__', '__version__', '_acquireLock', '_addHandlerRef', '_checkLevel', '_defaultFormatter', '_defaultLastResort', '_handlerList', '_handlers', '_levelToName', '_lock', '_logRecordFactory', '_loggerClass', '_nameToLevel', '_releaseLock', '_removeHandlerRef', '_showwarning', '_srcfile', '_startTime', '_warnings_showwarning', 'addLevelName', 'atexit', 'basicConfig', 'captureWarnings', 'collections', 'critical', 'currentframe', 'debug', 'disable', 'error', 'exception', 'fatal', 'getLevelName', 'getLogRecordFactory', 'getLogger', 'getLoggerClass', 'handlers', 'info', 'io', 'lastResort', 'log', 'logMultiprocessing', 'logProcesses', 'logThreads', 'makeLogRecord', 'os', 'raiseExceptions', 'root', 'setLogRecordFactory', 'setLoggerClass', 'shutdown', 'sys', 'threading', 'time', 'traceback', 'warn', 'warning', 'warnings', 'weakref']\n"
     ]
    }
   ],
   "source": [
    "from selenium import webdriver\n",
    "from time import sleep\n",
    "import logging\n",
    "from  datetime import datetime\n",
    "\n",
    "LOG_FILENAME='output.log'\n",
    "# logging.basicConfig(filename=LOG_FILENAME,level=logging.ERROR)\n",
    "# LOG_FILENAME = datetime.now().strftime(\"%Y%m%d-%H%M%S\")\n",
    "logging.basicConfig(filename=LOG_FILENAME,level=logging.INFO)\n",
    "# logging.basicConfig(filename='output.log',level=logging.INFO)\n",
    "\n",
    "# CRITICAL', 'DEBUG', 'ERROR', 'FATAL',  'INFO',\n",
    "# driver = webdriver.Ie()\n",
    "driver = webdriver.Chrome()\n",
    "\n",
    "logging.critical(\"Browser started\")\n",
    "driver.maximize_window()\n",
    "# driver.get(\"http://www.pyasdfthon.org\")\n",
    "url=\"http://www.ksrtc.in/oprs-web/\"\n",
    "driver.get(url)\n",
    "logging.DEBUG(\"url value=\" +url)\n",
    "# driver.get(\"https://google.com\")\n",
    "element=driver.find_element_by_name(\"searchBtn\")\n",
    "logging.error(\"maximized\")\n",
    "print (driver.capabilities['version'])\n",
    "logging.debug(\"version printed\")\n",
    "\n",
    "sleep(3)\n",
    "driver.quit()\n",
    "\n",
    "print (dir(logging))\n"
   ]
  },
  {
   "cell_type": "code",
   "execution_count": null,
   "metadata": {},
   "outputs": [],
   "source": []
  }
 ],
 "metadata": {
  "kernelspec": {
   "display_name": "Python 3",
   "language": "python",
   "name": "python3"
  },
  "language_info": {
   "codemirror_mode": {
    "name": "ipython",
    "version": 3
   },
   "file_extension": ".py",
   "mimetype": "text/x-python",
   "name": "python",
   "nbconvert_exporter": "python",
   "pygments_lexer": "ipython3",
   "version": "3.6.4"
  }
 },
 "nbformat": 4,
 "nbformat_minor": 2
}
