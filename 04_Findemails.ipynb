{
 "cells": [
  {
   "cell_type": "code",
   "execution_count": 1,
   "metadata": {},
   "outputs": [
    {
     "name": "stdout",
     "output_type": "stream",
     "text": [
      "call.del@airindia.in\n",
      "call.del@airindia.in\n",
      "call.del@airindia.in\n",
      "call.bom@airindia.in\n",
      "call.bom@airindia.in\n",
      "call.bom@airindia.in\n",
      "traveldocs@airindia.in\n",
      "traveldocs@airindia.in\n",
      "traveldocs@airindia.in\n",
      "eCommerce@airindia.in\n",
      "eCommerce@airindia.in\n",
      "eCommerce@airindia.in\n",
      "mobilebookings@airindia.in\n",
      "mobilebookings@airindia.in\n",
      "mobilebookings@airindia.in\n",
      "flyingreturnsbase.ai@collinsongroup.com\n",
      "flyingreturnsbase.ai@collinsongroup.com\n",
      "flyingreturnsbase.ai@collinsongroup.com\n",
      "airindiaretros.ai@collinsongroup.com\n",
      "airindiaretros.ai@collinsongroup.com\n",
      "airindiaretros.ai@collinsongroup.com\n",
      "starallianceretros.ai@collinsongroup.com\n",
      "starallianceretros.ai@collinsongroup.com\n",
      "starallianceretros.ai@collinsongroup.com\n",
      "silveredge.ai@collinsongroup.com\n",
      "silveredge.ai@collinsongroup.com\n",
      "silveredge.ai@collinsongroup.com\n",
      "goldenedge.ai@collinsongroup.com\n",
      "goldenedge.ai@collinsongroup.com\n",
      "goldenedge.ai@collinsongroup.com\n",
      "maharajahclub.ai@collinsongroup.com\n",
      "maharajahclub.ai@collinsongroup.com\n",
      "maharajahclub.ai@collinsongroup.com\n"
     ]
    }
   ],
   "source": [
    "from selenium import webdriver\n",
    "from time import sleep\n",
    "import re\n",
    "driver = webdriver.Chrome()\n",
    "driver.maximize_window()\n",
    "driver.get(\"http://www.airindia.in/customer-support.htm\")\n",
    "doc= driver.page_source\n",
    "emails=re.findall(r'[\\w\\.-]+@[\\w\\.-]+',doc)\n",
    "for email in emails:\n",
    "\tprint (email)\n",
    "sleep(3)\n",
    "driver.close()"
   ]
  },
  {
   "cell_type": "code",
   "execution_count": null,
   "metadata": {},
   "outputs": [],
   "source": []
  }
 ],
 "metadata": {
  "kernelspec": {
   "display_name": "Python 3",
   "language": "python",
   "name": "python3"
  },
  "language_info": {
   "codemirror_mode": {
    "name": "ipython",
    "version": 3
   },
   "file_extension": ".py",
   "mimetype": "text/x-python",
   "name": "python",
   "nbconvert_exporter": "python",
   "pygments_lexer": "ipython3",
   "version": "3.6.4"
  }
 },
 "nbformat": 4,
 "nbformat_minor": 2
}
